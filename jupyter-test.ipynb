{
 "cells": [
  {
   "cell_type": "markdown",
   "id": "b8a637a55e81c42e",
   "metadata": {},
   "source": []
  },
  {
   "metadata": {
    "ExecuteTime": {
     "end_time": "2025-01-01T22:44:12.990056Z",
     "start_time": "2025-01-01T22:44:12.977498Z"
    }
   },
   "cell_type": "code",
   "source": [
    "from dotenv import load_dotenv\n",
    "\n",
    "load_dotenv()"
   ],
   "id": "589f0c793ba2f071",
   "outputs": [
    {
     "data": {
      "text/plain": [
       "True"
      ]
     },
     "execution_count": 3,
     "metadata": {},
     "output_type": "execute_result"
    }
   ],
   "execution_count": 3
  },
  {
   "metadata": {},
   "cell_type": "markdown",
   "source": "여기는 텍스트 셀이다\n",
   "id": "7366c96c3e8c1a09"
  },
  {
   "metadata": {
    "ExecuteTime": {
     "end_time": "2025-01-01T22:45:46.781242Z",
     "start_time": "2025-01-01T22:45:46.779316Z"
    }
   },
   "cell_type": "code",
   "source": [
    "# 여기는 코드 셀이다.\n",
    "print(\"Hello World!\")"
   ],
   "id": "adc9f17e809db893",
   "outputs": [
    {
     "name": "stdout",
     "output_type": "stream",
     "text": [
      "Hello World!\n"
     ]
    }
   ],
   "execution_count": 5
  },
  {
   "metadata": {},
   "cell_type": "code",
   "outputs": [],
   "execution_count": null,
   "source": "",
   "id": "f4588524624fdf4a"
  }
 ],
 "metadata": {
  "kernelspec": {
   "display_name": "Python 3 (ipykernel)",
   "language": "python",
   "name": "python3"
  },
  "language_info": {
   "codemirror_mode": {
    "name": "ipython",
    "version": 3
   },
   "file_extension": ".py",
   "mimetype": "text/x-python",
   "name": "python",
   "nbconvert_exporter": "python",
   "pygments_lexer": "ipython3",
   "version": "3.12.3"
  }
 },
 "nbformat": 4,
 "nbformat_minor": 5
}
